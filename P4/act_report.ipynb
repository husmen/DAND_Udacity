{
 "cells": [
  {
   "cell_type": "markdown",
   "metadata": {},
   "source": [
    "# Wrangle and Analyze Data\n",
    "#### Final report"
   ]
  },
  {
   "cell_type": "markdown",
   "metadata": {},
   "source": [
    "## Analysis and Visualisation\n",
    "In this section some insights into the data at hand are provided by asking a few question and trying to answer them through querying the data the right way."
   ]
  },
  {
   "cell_type": "markdown",
   "metadata": {},
   "source": [
    "### How many submissions are real dogs?\n",
    "\n",
    "I counted the number of `True` values in `p1_dog` and divided it on the total count of entries to reach the answer of 74.06%.\n",
    "\n",
    "This is, however, assuming that the prediction results are accurate enough, which we will question soon enough."
   ]
  },
  {
   "cell_type": "markdown",
   "metadata": {},
   "source": [
    "### Top 10 rated dogs\n",
    "\n",
    "I learned that by simply reordering the `DataFrame` according to the score values calculated during the cleaning phase, and then slicing it to diplay the top 10 results and only the desired columns.\n",
    "\n",
    "The top 2 or 3 seem to be outliers, probably we should have removed them in the cleaning phase.\n",
    "\n",
    "\n",
    "<div>\n",
    "<style scoped>\n",
    "    .dataframe tbody tr th:only-of-type {\n",
    "        vertical-align: middle;\n",
    "    }\n",
    "\n",
    "    .dataframe tbody tr th {\n",
    "        vertical-align: top;\n",
    "    }\n",
    "\n",
    "    .dataframe thead th {\n",
    "        text-align: right;\n",
    "    }\n",
    "</style>\n",
    "<table border=\"1\" class=\"dataframe\">\n",
    "  <thead>\n",
    "    <tr style=\"text-align: right;\">\n",
    "      <th>tweet_id</th>\n",
    "      <th>name</th>\n",
    "      <th>stage</th>\n",
    "      <th>p1_dog</th>\n",
    "      <th>rating_score</th>\n",
    "    </tr>\n",
    "  </thead>\n",
    "  <tbody>\n",
    "    <tr>\n",
    "      <td>749981277374128128</td>\n",
    "      <td>Atticus</td>\n",
    "      <td>None</td>\n",
    "      <td>False</td>\n",
    "      <td>177.600000</td>\n",
    "    </tr>\n",
    "    <tr>\n",
    "      <td>670842764863651840</td>\n",
    "      <td>None</td>\n",
    "      <td>None</td>\n",
    "      <td>False</td>\n",
    "      <td>42.000000</td>\n",
    "    </tr>\n",
    "    <tr>\n",
    "      <td>786709082849828864</td>\n",
    "      <td>Logan</td>\n",
    "      <td>None</td>\n",
    "      <td>True</td>\n",
    "      <td>7.500000</td>\n",
    "    </tr>\n",
    "    <tr>\n",
    "      <td>810984652412424192</td>\n",
    "      <td>Sam</td>\n",
    "      <td>None</td>\n",
    "      <td>True</td>\n",
    "      <td>3.428571</td>\n",
    "    </tr>\n",
    "    <tr>\n",
    "      <td>778027034220126208</td>\n",
    "      <td>Sophie</td>\n",
    "      <td>pupper</td>\n",
    "      <td>True</td>\n",
    "      <td>2.700000</td>\n",
    "    </tr>\n",
    "    <tr>\n",
    "      <td>680494726643068929</td>\n",
    "      <td>None</td>\n",
    "      <td>None</td>\n",
    "      <td>True</td>\n",
    "      <td>2.600000</td>\n",
    "    </tr>\n",
    "    <tr>\n",
    "      <td>870063196459192321</td>\n",
    "      <td>Clifford</td>\n",
    "      <td>None</td>\n",
    "      <td>False</td>\n",
    "      <td>1.400000</td>\n",
    "    </tr>\n",
    "    <tr>\n",
    "      <td>863079547188785154</td>\n",
    "      <td>None</td>\n",
    "      <td>None</td>\n",
    "      <td>True</td>\n",
    "      <td>1.400000</td>\n",
    "    </tr>\n",
    "    <tr>\n",
    "      <td>864873206498414592</td>\n",
    "      <td>None</td>\n",
    "      <td>None</td>\n",
    "      <td>False</td>\n",
    "      <td>1.400000</td>\n",
    "    </tr>\n",
    "    <tr>\n",
    "      <td>807621403335917568</td>\n",
    "      <td>Ollie</td>\n",
    "      <td>pupper</td>\n",
    "      <td>True</td>\n",
    "      <td>1.400000</td>\n",
    "    </tr>\n",
    "  </tbody>\n",
    "</table>\n",
    "</div>"
   ]
  },
  {
   "cell_type": "markdown",
   "metadata": {},
   "source": [
    "### Images of the top 3 dogs\n",
    "\n",
    "Using the last table, we can fetch the associated image using its url and display it.\n",
    "\n",
    "Doing so brought attention to 2 things: \n",
    "\n",
    "* even among the highest rated entries, not all are real.\n",
    "\n",
    "* The dog breed predition model itself is not always reliable.\n",
    "\n",
    "![png](wrangle_act_files/wrangle_act_49_0.png)\n",
    "![png](wrangle_act_files/wrangle_act_50_0.png)\n",
    "![png](wrangle_act_files/wrangle_act_51_0.png)"
   ]
  },
  {
   "cell_type": "markdown",
   "metadata": {},
   "source": [
    "### At which stage does a dog get better ratings?\n",
    "\n",
    "We can answer this by running an average aggregation task on `rating_score` and grouping the results by the `stage`.\n",
    "\n",
    "For some reason, puppos and floofers score the highest, with puppers being the lowest! This is wrong and unfair if you ask me.\n",
    "\n",
    "\n",
    "<div>\n",
    "<style scoped>\n",
    "    .dataframe tbody tr th:only-of-type {\n",
    "        vertical-align: middle;\n",
    "    }\n",
    "\n",
    "    .dataframe tbody tr th {\n",
    "        vertical-align: top;\n",
    "    }\n",
    "\n",
    "    .dataframe thead th {\n",
    "        text-align: right;\n",
    "    }\n",
    "</style>\n",
    "<table border=\"1\" class=\"dataframe\">\n",
    "  <thead>\n",
    "    <tr style=\"text-align: right;\">\n",
    "      <th>stage</th>\n",
    "      <th>rating_score</th>\n",
    "    </tr>\n",
    "  </thead>\n",
    "  <tbody>\n",
    "    <tr>\n",
    "      <th>puppo</th>\n",
    "      <td>1.200000</td>\n",
    "    </tr>\n",
    "    <tr>\n",
    "      <th>floofer</th>\n",
    "      <td>1.200000</td>\n",
    "    </tr>\n",
    "    <tr>\n",
    "      <th>doggo</th>\n",
    "      <td>1.188889</td>\n",
    "    </tr>\n",
    "    <tr>\n",
    "      <th>None</th>\n",
    "      <td>1.180192</td>\n",
    "    </tr>\n",
    "    <tr>\n",
    "      <th>chimera</th>\n",
    "      <td>1.118182</td>\n",
    "    </tr>\n",
    "    <tr>\n",
    "      <th>pupper</th>\n",
    "      <td>1.071429</td>\n",
    "    </tr>\n",
    "  </tbody>\n",
    "</table>\n",
    "</div>"
   ]
  },
  {
   "cell_type": "markdown",
   "metadata": {},
   "source": [
    "### Source of submissions\n",
    "\n",
    "Leveraging other aggregation functions (`value_counts` and `count()`), we get the percentage of each submission source\n",
    "\n",
    "* Twitter for iPhone: 98.04%\n",
    "\n",
    "* Twitter Web Client: 1.40%\n",
    "\n",
    "* TweetDeck: 0.55%"
   ]
  },
  {
   "cell_type": "markdown",
   "metadata": {},
   "source": [
    "### Retweet vs Favorite Count\n",
    "\n",
    "It is interesting to know what kind of correlation there is between these 2 variables. coming as no surprise to anyone, they are highly correlated.\n",
    "\n",
    "![png](wrangle_act_files/wrangle_act_59_0.png)"
   ]
  },
  {
   "cell_type": "markdown",
   "metadata": {},
   "source": [
    "### Rating Distribution\n",
    "\n",
    "Another interesting aspect of the data is the distribution of the ratings, trying to plot the whole range didn't result in a clear enough graph, so instead I went with the `[0, 5]`.\n",
    "I feel sorry for the few good boys who got a rating of less than 1!\n",
    "\n",
    "* For all values:\n",
    "\n",
    "![png](wrangle_act_files/wrangle_act_61_0.png)\n",
    "\n",
    "* For \\[0,5\\] range:\n",
    "\n",
    "![png](wrangle_act_files/wrangle_act_62_0.png)"
   ]
  },
  {
   "cell_type": "code",
   "execution_count": 3,
   "metadata": {},
   "outputs": [
    {
     "data": {
      "text/plain": [
       "0"
      ]
     },
     "execution_count": 3,
     "metadata": {},
     "output_type": "execute_result"
    }
   ],
   "source": [
    "from subprocess import call\n",
    "call([\"python\", \"-m\", \"nbconvert\", \"act_report.ipynb\"])"
   ]
  },
  {
   "cell_type": "code",
   "execution_count": null,
   "metadata": {},
   "outputs": [],
   "source": []
  }
 ],
 "metadata": {
  "kernelspec": {
   "display_name": "Python 3",
   "language": "python",
   "name": "python3"
  },
  "language_info": {
   "codemirror_mode": {
    "name": "ipython",
    "version": 3
   },
   "file_extension": ".py",
   "mimetype": "text/x-python",
   "name": "python",
   "nbconvert_exporter": "python",
   "pygments_lexer": "ipython3",
   "version": "3.8.1"
  }
 },
 "nbformat": 4,
 "nbformat_minor": 4
}
